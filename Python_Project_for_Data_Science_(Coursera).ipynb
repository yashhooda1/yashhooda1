{
  "cells": [
    {
      "cell_type": "markdown",
      "metadata": {
        "id": "view-in-github",
        "colab_type": "text"
      },
      "source": [
        "<a href=\"https://colab.research.google.com/github/yashhooda1/yashhooda1/blob/main/Python_Project_for_Data_Science_(Coursera).ipynb\" target=\"_parent\"><img src=\"https://colab.research.google.com/assets/colab-badge.svg\" alt=\"Open In Colab\"/></a>"
      ]
    },
    {
      "cell_type": "markdown",
      "metadata": {
        "id": "j5X1xAg_Z9ri"
      },
      "source": [
        "<p style=\"text-align:center\">\n",
        "    <a href=\"https://skills.network/?utm_medium=Exinfluencer&utm_source=Exinfluencer&utm_content=000026UJ&utm_term=10006555&utm_id=NA-SkillsNetwork-Channel-SkillsNetworkCoursesIBMDeveloperSkillsNetworkPY0220ENSkillsNetwork900-2022-01-01\" target=\"_blank\">\n",
        "    <img src=\"https://cf-courses-data.s3.us.cloud-object-storage.appdomain.cloud/assets/logos/SN_web_lightmode.png\" width=\"200\" alt=\"Skills Network Logo\"  />\n",
        "    </a>\n",
        "</p>\n"
      ],
      "id": "j5X1xAg_Z9ri"
    },
    {
      "cell_type": "markdown",
      "id": "a3297b8f-d940-495e-b617-311976f3374a",
      "metadata": {
        "id": "a3297b8f-d940-495e-b617-311976f3374a"
      },
      "source": [
        "<h1>Extracting and Visualizing Stock Data</h1>\n",
        "<h2>Description</h2>\n"
      ]
    },
    {
      "cell_type": "markdown",
      "id": "a63757ca-0a1f-4a61-bd6c-3c25f234e7fb",
      "metadata": {
        "id": "a63757ca-0a1f-4a61-bd6c-3c25f234e7fb"
      },
      "source": [
        "Extracting essential data from a dataset and displaying it is a necessary part of data science; therefore individuals can make correct decisions based on the data. In this assignment, you will extract some stock data, you will then display this data in a graph.\n"
      ]
    },
    {
      "cell_type": "markdown",
      "id": "11a783a7-56d2-4e99-97cf-ea53bfc8aa81",
      "metadata": {
        "id": "11a783a7-56d2-4e99-97cf-ea53bfc8aa81"
      },
      "source": [
        "<h2>Table of Contents</h2>\n",
        "<div class=\"alert alert-block alert-info\" style=\"margin-top: 20px\">\n",
        "    <ul>\n",
        "        <li>Define a Function that Makes a Graph</li>\n",
        "        <li>Question 1: Use yfinance to Extract Stock Data</li>\n",
        "        <li>Question 2: Use Webscraping to Extract Tesla Revenue Data</li>\n",
        "        <li>Question 3: Use yfinance to Extract Stock Data</li>\n",
        "        <li>Question 4: Use Webscraping to Extract GME Revenue Data</li>\n",
        "        <li>Question 5: Plot Tesla Stock Graph</li>\n",
        "        <li>Question 6: Plot GameStop Stock Graph</li>\n",
        "    </ul>\n",
        "<p>\n",
        "    Estimated Time Needed: <strong>30 min</strong></p>\n",
        "</div>\n",
        "\n",
        "<hr>\n"
      ]
    },
    {
      "cell_type": "code",
      "id": "be6e0c97-5ff6-4c62-8123-c41697152060",
      "metadata": {
        "colab": {
          "base_uri": "https://localhost:8080/"
        },
        "id": "be6e0c97-5ff6-4c62-8123-c41697152060",
        "outputId": "693db166-4005-474c-b6b1-4abebec4f253"
      },
      "outputs": [
        {
          "output_type": "stream",
          "name": "stdout",
          "text": [
            "Looking in indexes: https://pypi.org/simple, https://us-python.pkg.dev/colab-wheels/public/simple/\n",
            "Requirement already satisfied: yfinance==0.1.67 in /usr/local/lib/python3.10/dist-packages (0.1.67)\n",
            "Requirement already satisfied: pandas>=0.24 in /usr/local/lib/python3.10/dist-packages (from yfinance==0.1.67) (1.5.3)\n",
            "Requirement already satisfied: numpy>=1.15 in /usr/local/lib/python3.10/dist-packages (from yfinance==0.1.67) (1.22.4)\n",
            "Requirement already satisfied: requests>=2.20 in /usr/local/lib/python3.10/dist-packages (from yfinance==0.1.67) (2.27.1)\n",
            "Requirement already satisfied: multitasking>=0.0.7 in /usr/local/lib/python3.10/dist-packages (from yfinance==0.1.67) (0.0.11)\n",
            "Requirement already satisfied: lxml>=4.5.1 in /usr/local/lib/python3.10/dist-packages (from yfinance==0.1.67) (4.9.2)\n",
            "Requirement already satisfied: python-dateutil>=2.8.1 in /usr/local/lib/python3.10/dist-packages (from pandas>=0.24->yfinance==0.1.67) (2.8.2)\n",
            "Requirement already satisfied: pytz>=2020.1 in /usr/local/lib/python3.10/dist-packages (from pandas>=0.24->yfinance==0.1.67) (2022.7.1)\n",
            "Requirement already satisfied: urllib3<1.27,>=1.21.1 in /usr/local/lib/python3.10/dist-packages (from requests>=2.20->yfinance==0.1.67) (1.26.15)\n",
            "Requirement already satisfied: certifi>=2017.4.17 in /usr/local/lib/python3.10/dist-packages (from requests>=2.20->yfinance==0.1.67) (2022.12.7)\n",
            "Requirement already satisfied: charset-normalizer~=2.0.0 in /usr/local/lib/python3.10/dist-packages (from requests>=2.20->yfinance==0.1.67) (2.0.12)\n",
            "Requirement already satisfied: idna<4,>=2.5 in /usr/local/lib/python3.10/dist-packages (from requests>=2.20->yfinance==0.1.67) (3.4)\n",
            "Requirement already satisfied: six>=1.5 in /usr/local/lib/python3.10/dist-packages (from python-dateutil>=2.8.1->pandas>=0.24->yfinance==0.1.67) (1.16.0)\n",
            "/bin/bash: mamba: command not found\n",
            "Looking in indexes: https://pypi.org/simple, https://us-python.pkg.dev/colab-wheels/public/simple/\n",
            "Requirement already satisfied: nbformat==4.2.0 in /usr/local/lib/python3.10/dist-packages (4.2.0)\n",
            "Requirement already satisfied: ipython-genutils in /usr/local/lib/python3.10/dist-packages (from nbformat==4.2.0) (0.2.0)\n",
            "Requirement already satisfied: jsonschema!=2.5.0,>=2.4 in /usr/local/lib/python3.10/dist-packages (from nbformat==4.2.0) (4.3.3)\n",
            "Requirement already satisfied: jupyter-core in /usr/local/lib/python3.10/dist-packages (from nbformat==4.2.0) (5.3.0)\n",
            "Requirement already satisfied: traitlets>=4.1 in /usr/local/lib/python3.10/dist-packages (from nbformat==4.2.0) (5.7.1)\n",
            "Requirement already satisfied: attrs>=17.4.0 in /usr/local/lib/python3.10/dist-packages (from jsonschema!=2.5.0,>=2.4->nbformat==4.2.0) (23.1.0)\n",
            "Requirement already satisfied: pyrsistent!=0.17.0,!=0.17.1,!=0.17.2,>=0.14.0 in /usr/local/lib/python3.10/dist-packages (from jsonschema!=2.5.0,>=2.4->nbformat==4.2.0) (0.19.3)\n",
            "Requirement already satisfied: platformdirs>=2.5 in /usr/local/lib/python3.10/dist-packages (from jupyter-core->nbformat==4.2.0) (3.3.0)\n"
          ]
        }
      ],
      "source": [
        "!pip install yfinance==0.1.67\n",
        "!mamba install bs4==4.10.0 -y\n",
        "!pip install nbformat==4.2.0"
      ],
      "execution_count": 50
    },
    {
      "cell_type": "code",
      "id": "9860fee0-de38-4cd2-936b-7479745b0f4e",
      "metadata": {
        "id": "9860fee0-de38-4cd2-936b-7479745b0f4e"
      },
      "outputs": [],
      "source": [
        "import yfinance as yf\n",
        "import pandas as pd\n",
        "import requests\n",
        "from bs4 import BeautifulSoup\n",
        "import plotly.graph_objects as go\n",
        "from plotly.subplots import make_subplots"
      ],
      "execution_count": 51
    },
    {
      "cell_type": "code",
      "source": [
        "pip install yfinance pandas"
      ],
      "metadata": {
        "colab": {
          "base_uri": "https://localhost:8080/"
        },
        "id": "Q3RdYWlreA-4",
        "outputId": "36d3707d-bf14-41a7-ba7f-7ba66c99bd07"
      },
      "id": "Q3RdYWlreA-4",
      "execution_count": 52,
      "outputs": [
        {
          "output_type": "stream",
          "name": "stdout",
          "text": [
            "Looking in indexes: https://pypi.org/simple, https://us-python.pkg.dev/colab-wheels/public/simple/\n",
            "Requirement already satisfied: yfinance in /usr/local/lib/python3.10/dist-packages (0.1.67)\n",
            "Requirement already satisfied: pandas in /usr/local/lib/python3.10/dist-packages (1.5.3)\n",
            "Requirement already satisfied: numpy>=1.15 in /usr/local/lib/python3.10/dist-packages (from yfinance) (1.22.4)\n",
            "Requirement already satisfied: requests>=2.20 in /usr/local/lib/python3.10/dist-packages (from yfinance) (2.27.1)\n",
            "Requirement already satisfied: multitasking>=0.0.7 in /usr/local/lib/python3.10/dist-packages (from yfinance) (0.0.11)\n",
            "Requirement already satisfied: lxml>=4.5.1 in /usr/local/lib/python3.10/dist-packages (from yfinance) (4.9.2)\n",
            "Requirement already satisfied: python-dateutil>=2.8.1 in /usr/local/lib/python3.10/dist-packages (from pandas) (2.8.2)\n",
            "Requirement already satisfied: pytz>=2020.1 in /usr/local/lib/python3.10/dist-packages (from pandas) (2022.7.1)\n",
            "Requirement already satisfied: six>=1.5 in /usr/local/lib/python3.10/dist-packages (from python-dateutil>=2.8.1->pandas) (1.16.0)\n",
            "Requirement already satisfied: urllib3<1.27,>=1.21.1 in /usr/local/lib/python3.10/dist-packages (from requests>=2.20->yfinance) (1.26.15)\n",
            "Requirement already satisfied: certifi>=2017.4.17 in /usr/local/lib/python3.10/dist-packages (from requests>=2.20->yfinance) (2022.12.7)\n",
            "Requirement already satisfied: charset-normalizer~=2.0.0 in /usr/local/lib/python3.10/dist-packages (from requests>=2.20->yfinance) (2.0.12)\n",
            "Requirement already satisfied: idna<4,>=2.5 in /usr/local/lib/python3.10/dist-packages (from requests>=2.20->yfinance) (3.4)\n"
          ]
        }
      ]
    },
    {
      "cell_type": "markdown",
      "id": "c2d6a13c-efae-4024-85e5-4edda1895c92",
      "metadata": {
        "id": "c2d6a13c-efae-4024-85e5-4edda1895c92"
      },
      "source": [
        "## Define Graphing Function\n"
      ]
    },
    {
      "cell_type": "markdown",
      "id": "4c0e1b5f-6137-4d71-b130-5aabd2cfb7f5",
      "metadata": {
        "id": "4c0e1b5f-6137-4d71-b130-5aabd2cfb7f5"
      },
      "source": [
        "In this section, we define the function `make_graph`. You don't have to know how the function works, you should only care about the inputs. It takes a dataframe with stock data (dataframe must contain Date and Close columns), a dataframe with revenue data (dataframe must contain Date and Revenue columns), and the name of the stock.\n"
      ]
    },
    {
      "cell_type": "code",
      "id": "0dcaaa5e-e5ed-4337-beb4-134b5da043d6",
      "metadata": {
        "id": "0dcaaa5e-e5ed-4337-beb4-134b5da043d6"
      },
      "outputs": [],
      "source": [
        "def make_graph(stock_data, revenue_data, stock):\n",
        "    fig = make_subplots(rows=2, cols=1, shared_xaxes=True, subplot_titles=(\"Historical Share Price\", \"Historical Revenue\"), vertical_spacing = .3)\n",
        "    stock_data_specific = stock_data[stock_data.Date <= '2021--06-14']\n",
        "    revenue_data_specific = revenue_data[revenue_data.Date <= '2021-04-30']\n",
        "    fig.add_trace(go.Scatter(x=pd.to_datetime(stock_data_specific.Date, infer_datetime_format=True), y=stock_data_specific.Close.astype(\"float\"), name=\"Share Price\"), row=1, col=1)\n",
        "    fig.add_trace(go.Scatter(x=pd.to_datetime(revenue_data_specific.Date, infer_datetime_format=True), y=revenue_data_specific.Revenue.astype(\"float\"), name=\"Revenue\"), row=2, col=1)\n",
        "    fig.update_xaxes(title_text=\"Date\", row=1, col=1)\n",
        "    fig.update_xaxes(title_text=\"Date\", row=2, col=1)\n",
        "    fig.update_yaxes(title_text=\"Price ($US)\", row=1, col=1)\n",
        "    fig.update_yaxes(title_text=\"Revenue ($US Millions)\", row=2, col=1)\n",
        "    fig.update_layout(showlegend=False,\n",
        "    height=900,\n",
        "    title=stock,\n",
        "    xaxis_rangeslider_visible=True)\n",
        "    fig.show()"
      ],
      "execution_count": 53
    },
    {
      "cell_type": "markdown",
      "id": "fbaa3d01-1420-4087-9d79-3a56522c1610",
      "metadata": {
        "id": "fbaa3d01-1420-4087-9d79-3a56522c1610"
      },
      "source": [
        "## Question 1: Use yfinance to Extract Stock Data\n"
      ]
    },
    {
      "cell_type": "markdown",
      "id": "d574fd10-1aab-4e46-a924-53d028709d24",
      "metadata": {
        "id": "d574fd10-1aab-4e46-a924-53d028709d24"
      },
      "source": [
        "Using the `Ticker` function enter the ticker symbol of the stock we want to extract data on to create a ticker object. The stock is Tesla and its ticker symbol is `TSLA`.\n"
      ]
    },
    {
      "cell_type": "code",
      "id": "408e0d71-3e76-4731-8cb0-60e7efd7c9ae",
      "metadata": {
        "id": "408e0d71-3e76-4731-8cb0-60e7efd7c9ae"
      },
      "outputs": [],
      "source": [
        "tesla = yf.Ticker(\"TSLA\")"
      ],
      "execution_count": 54
    },
    {
      "cell_type": "markdown",
      "id": "13c78686-b22b-490c-acac-b66d49024e46",
      "metadata": {
        "id": "13c78686-b22b-490c-acac-b66d49024e46"
      },
      "source": [
        "Using the ticker object and the function `history` extract stock information and save it in a dataframe named `tesla_data`. Set the `period` parameter to `max` so we get information for the maximum amount of time.\n"
      ]
    },
    {
      "cell_type": "code",
      "id": "7f9763e4-9122-41ec-9443-a53343c59b60",
      "metadata": {
        "colab": {
          "base_uri": "https://localhost:8080/",
          "height": 305
        },
        "id": "7f9763e4-9122-41ec-9443-a53343c59b60",
        "outputId": "0f52612a-ecb6-49fd-bef3-63669f603e5f"
      },
      "outputs": [
        {
          "output_type": "error",
          "ename": "AttributeError",
          "evalue": "ignored",
          "traceback": [
            "\u001b[0;31m---------------------------------------------------------------------------\u001b[0m",
            "\u001b[0;31mAttributeError\u001b[0m                            Traceback (most recent call last)",
            "\u001b[0;32m<ipython-input-55-19189f6680f4>\u001b[0m in \u001b[0;36m<cell line: 1>\u001b[0;34m()\u001b[0m\n\u001b[0;32m----> 1\u001b[0;31m \u001b[0mtesla_data\u001b[0m \u001b[0;34m=\u001b[0m \u001b[0mtesla\u001b[0m\u001b[0;34m.\u001b[0m\u001b[0mhistory\u001b[0m\u001b[0;34m(\u001b[0m\u001b[0mperiod\u001b[0m\u001b[0;34m=\u001b[0m\u001b[0;34m\"max\"\u001b[0m\u001b[0;34m)\u001b[0m\u001b[0;34m\u001b[0m\u001b[0;34m\u001b[0m\u001b[0m\n\u001b[0m",
            "\u001b[0;32m/usr/local/lib/python3.10/dist-packages/yfinance/base.py\u001b[0m in \u001b[0;36mhistory\u001b[0;34m(self, period, interval, start, end, prepost, actions, auto_adjust, back_adjust, proxy, rounding, tz, timeout, **kwargs)\u001b[0m\n\u001b[1;32m    277\u001b[0m \u001b[0;34m\u001b[0m\u001b[0m\n\u001b[1;32m    278\u001b[0m         \u001b[0;31m# index eod/intraday\u001b[0m\u001b[0;34m\u001b[0m\u001b[0;34m\u001b[0m\u001b[0m\n\u001b[0;32m--> 279\u001b[0;31m         df.index = df.index.tz_localize(\"UTC\").tz_convert(\n\u001b[0m\u001b[1;32m    280\u001b[0m             data[\"chart\"][\"result\"][0][\"meta\"][\"exchangeTimezoneName\"])\n\u001b[1;32m    281\u001b[0m \u001b[0;34m\u001b[0m\u001b[0m\n",
            "\u001b[0;31mAttributeError\u001b[0m: 'Index' object has no attribute 'tz_localize'"
          ]
        }
      ],
      "source": [
        "tesla_data = tesla.history(period=\"max\")"
      ],
      "execution_count": 55
    },
    {
      "cell_type": "markdown",
      "id": "15032e00-90d7-455e-adcd-a1eeec54d6e0",
      "metadata": {
        "id": "15032e00-90d7-455e-adcd-a1eeec54d6e0"
      },
      "source": [
        "**Reset the index** using the `reset_index(inplace=True)` function on the tesla_data DataFrame and display the first five rows of the `tesla_data` dataframe using the `head` function. Take a screenshot of the results and code from the beginning of Question 1 to the results below.\n"
      ]
    },
    {
      "cell_type": "code",
      "id": "0123c47b-8378-4c7f-99be-80e571416ebd",
      "metadata": {
        "colab": {
          "base_uri": "https://localhost:8080/",
          "height": 183
        },
        "id": "0123c47b-8378-4c7f-99be-80e571416ebd",
        "outputId": "9ca0c74f-9ee2-4f9d-e866-6a45631525e9"
      },
      "outputs": [
        {
          "output_type": "error",
          "ename": "NameError",
          "evalue": "ignored",
          "traceback": [
            "\u001b[0;31m---------------------------------------------------------------------------\u001b[0m",
            "\u001b[0;31mNameError\u001b[0m                                 Traceback (most recent call last)",
            "\u001b[0;32m<ipython-input-56-76cf92fd062d>\u001b[0m in \u001b[0;36m<cell line: 1>\u001b[0;34m()\u001b[0m\n\u001b[0;32m----> 1\u001b[0;31m \u001b[0mtesla_data\u001b[0m\u001b[0;34m.\u001b[0m\u001b[0mreset_index\u001b[0m\u001b[0;34m(\u001b[0m\u001b[0minplace\u001b[0m\u001b[0;34m=\u001b[0m\u001b[0;32mTrue\u001b[0m\u001b[0;34m)\u001b[0m\u001b[0;34m\u001b[0m\u001b[0;34m\u001b[0m\u001b[0m\n\u001b[0m\u001b[1;32m      2\u001b[0m \u001b[0mtesla_data\u001b[0m\u001b[0;34m.\u001b[0m\u001b[0mhead\u001b[0m\u001b[0;34m(\u001b[0m\u001b[0;34m)\u001b[0m\u001b[0;34m\u001b[0m\u001b[0;34m\u001b[0m\u001b[0m\n",
            "\u001b[0;31mNameError\u001b[0m: name 'tesla_data' is not defined"
          ]
        }
      ],
      "source": [
        "tesla_data.reset_index(inplace=True)\n",
        "tesla_data.head()"
      ],
      "execution_count": 56
    },
    {
      "cell_type": "markdown",
      "id": "b94b5dab-a6f1-40eb-b836-0062988464db",
      "metadata": {
        "id": "b94b5dab-a6f1-40eb-b836-0062988464db"
      },
      "source": [
        "## Question 2: Use Webscraping to Extract Tesla Revenue Data\n"
      ]
    },
    {
      "cell_type": "markdown",
      "id": "10c4befd-c47e-4592-a72e-7c0b5c678068",
      "metadata": {
        "id": "10c4befd-c47e-4592-a72e-7c0b5c678068"
      },
      "source": [
        "Use the `requests` library to download the webpage https://cf-courses-data.s3.us.cloud-object-storage.appdomain.cloud/IBMDeveloperSkillsNetwork-PY0220EN-SkillsNetwork/labs/project/revenue.htm Save the text of the response as a variable named `html_data`.\n"
      ]
    },
    {
      "cell_type": "code",
      "id": "f65ee884-d9a1-424a-bcb2-bab7e3fbc53f",
      "metadata": {
        "id": "f65ee884-d9a1-424a-bcb2-bab7e3fbc53f"
      },
      "outputs": [],
      "source": [
        "import requests\n",
        "\n",
        "url = \"https://cf-courses-data.s3.us.cloud-object-storage.appdomain.cloud/IBMDeveloperSkillsNetwork-PY0220EN-SkillsNetwork/labs/project/revenue.htm\"\n",
        "response = requests.get(url)\n",
        "html_data = response.text"
      ],
      "execution_count": 23
    },
    {
      "cell_type": "markdown",
      "id": "e08fb22f-128a-4f99-8344-dd18d6279ab6",
      "metadata": {
        "id": "e08fb22f-128a-4f99-8344-dd18d6279ab6"
      },
      "source": [
        "Parse the html data using `beautiful_soup`.\n"
      ]
    },
    {
      "cell_type": "code",
      "id": "208b38b4-260c-4098-9b1e-9e88baed91c7",
      "metadata": {
        "id": "208b38b4-260c-4098-9b1e-9e88baed91c7"
      },
      "outputs": [],
      "source": [
        "soup = BeautifulSoup(html_data, 'html.parser')"
      ],
      "execution_count": 24
    },
    {
      "cell_type": "markdown",
      "id": "2beb668c-ce60-4121-96fc-0aa47465f941",
      "metadata": {
        "id": "2beb668c-ce60-4121-96fc-0aa47465f941"
      },
      "source": [
        "Using `BeautifulSoup` or the `read_html` function extract the table with `Tesla Quarterly Revenue` and store it into a dataframe named `tesla_revenue`. The dataframe should have columns `Date` and `Revenue`.\n"
      ]
    },
    {
      "cell_type": "markdown",
      "id": "e6d73b96-e834-49d0-a325-4341ab772ad8",
      "metadata": {
        "id": "e6d73b96-e834-49d0-a325-4341ab772ad8"
      },
      "source": [
        "<details><summary>Click here if you need help locating the table</summary>\n",
        "\n",
        "```\n",
        "\n",
        "Below is the code to isolate the table, you will now need to loop through the rows and columns like in the previous lab\n",
        "\n",
        "soup.find_all(\"tbody\")[1]\n",
        "\n",
        "If you want to use the read_html function the table is located at index 1\n",
        "\n",
        "\n",
        "```\n",
        "\n",
        "</details>\n"
      ]
    },
    {
      "cell_type": "code",
      "id": "cd2a6e7c-8f63-48d6-b335-533af47912b3",
      "metadata": {
        "colab": {
          "base_uri": "https://localhost:8080/"
        },
        "id": "cd2a6e7c-8f63-48d6-b335-533af47912b3",
        "outputId": "4f3050a2-6802-487a-a39f-86ea658a38d1"
      },
      "outputs": [
        {
          "output_type": "stream",
          "name": "stdout",
          "text": [
            "    Date  Revenue\n",
            "0   2021  $53,823\n",
            "1   2020  $31,536\n",
            "2   2019  $24,578\n",
            "3   2018  $21,461\n",
            "4   2017  $11,759\n",
            "5   2016   $7,000\n",
            "6   2015   $4,046\n",
            "7   2014   $3,198\n",
            "8   2013   $2,013\n",
            "9   2012     $413\n",
            "10  2011     $204\n",
            "11  2010     $117\n",
            "12  2009     $112\n"
          ]
        }
      ],
      "source": [
        "# Extract table data using read_html\n",
        "tables = pd.read_html(url)\n",
        "\n",
        "# Find the table index that contains the Tesla Quarterly Revenue\n",
        "tesla_revenue = tables[0]  # Adjust the index if needed\n",
        "tesla_revenue.columns = ['Date', 'Revenue']\n",
        "\n",
        "# Display the DataFrame\n",
        "print(tesla_revenue)"
      ],
      "execution_count": 28
    },
    {
      "cell_type": "markdown",
      "id": "621993b9-01da-48e3-a3e3-d65364683bae",
      "metadata": {
        "id": "621993b9-01da-48e3-a3e3-d65364683bae"
      },
      "source": [
        "Execute the following line to remove the comma and dollar sign from the `Revenue` column.\n"
      ]
    },
    {
      "cell_type": "code",
      "id": "a96aff4d-1999-4f8b-a2e2-a0a9d15f900f",
      "metadata": {
        "colab": {
          "base_uri": "https://localhost:8080/"
        },
        "id": "a96aff4d-1999-4f8b-a2e2-a0a9d15f900f",
        "outputId": "efe55798-a6bc-42b4-a1ef-7ae95f9b20c6"
      },
      "outputs": [
        {
          "output_type": "stream",
          "name": "stderr",
          "text": [
            "<ipython-input-29-2aef5327de36>:1: FutureWarning: The default value of regex will change from True to False in a future version.\n",
            "  tesla_revenue[\"Revenue\"] = tesla_revenue['Revenue'].str.replace(',|\\$',\"\")\n"
          ]
        }
      ],
      "source": [
        "tesla_revenue[\"Revenue\"] = tesla_revenue['Revenue'].str.replace(',|\\$',\"\")"
      ],
      "execution_count": 29
    },
    {
      "cell_type": "markdown",
      "id": "92e23a47-3512-489a-b2da-7d596cee444d",
      "metadata": {
        "id": "92e23a47-3512-489a-b2da-7d596cee444d"
      },
      "source": [
        "Execute the following lines to remove an null or empty strings in the Revenue column.\n"
      ]
    },
    {
      "cell_type": "code",
      "id": "3f14fcdc-450c-4fba-82da-a56ec62ac81d",
      "metadata": {
        "id": "3f14fcdc-450c-4fba-82da-a56ec62ac81d"
      },
      "outputs": [],
      "source": [
        "tesla_revenue.dropna(inplace=True)\n",
        "\n",
        "tesla_revenue = tesla_revenue[tesla_revenue['Revenue'] != \"\"]"
      ],
      "execution_count": 30
    },
    {
      "cell_type": "markdown",
      "id": "e64f6be4-8b4f-4077-b7dc-03ce2c2df456",
      "metadata": {
        "id": "e64f6be4-8b4f-4077-b7dc-03ce2c2df456"
      },
      "source": [
        "Display the last 5 row of the `tesla_revenue` dataframe using the `tail` function. Take a screenshot of the results.\n"
      ]
    },
    {
      "cell_type": "code",
      "id": "3676dbd9-97ce-4fb8-945c-ca96db5d28d5",
      "metadata": {
        "colab": {
          "base_uri": "https://localhost:8080/"
        },
        "id": "3676dbd9-97ce-4fb8-945c-ca96db5d28d5",
        "outputId": "952d8805-4221-4788-dc40-a022531663c3"
      },
      "outputs": [
        {
          "output_type": "stream",
          "name": "stdout",
          "text": [
            "    Date Revenue\n",
            "8   2013    2013\n",
            "9   2012     413\n",
            "10  2011     204\n",
            "11  2010     117\n",
            "12  2009     112\n"
          ]
        }
      ],
      "source": [
        "print(tesla_revenue.tail(5))"
      ],
      "execution_count": 31
    },
    {
      "cell_type": "markdown",
      "id": "6ef322a4-e492-4e0e-a514-5122180f8654",
      "metadata": {
        "id": "6ef322a4-e492-4e0e-a514-5122180f8654"
      },
      "source": [
        "## Question 3: Use yfinance to Extract Stock Data\n"
      ]
    },
    {
      "cell_type": "markdown",
      "id": "662635b8-6df0-4db5-a536-a82e6dff05dc",
      "metadata": {
        "id": "662635b8-6df0-4db5-a536-a82e6dff05dc"
      },
      "source": [
        "Using the `Ticker` function enter the ticker symbol of the stock we want to extract data on to create a ticker object. The stock is GameStop and its ticker symbol is `GME`.\n"
      ]
    },
    {
      "cell_type": "code",
      "id": "f45e0206-d410-44f7-869f-f5e8d6985de0",
      "metadata": {
        "id": "f45e0206-d410-44f7-869f-f5e8d6985de0"
      },
      "outputs": [],
      "source": [
        "gamestop = yf.Ticker(\"GME\")"
      ],
      "execution_count": 32
    },
    {
      "cell_type": "markdown",
      "id": "2f9983cb-a323-4f8e-8ff6-e5af19e10286",
      "metadata": {
        "id": "2f9983cb-a323-4f8e-8ff6-e5af19e10286"
      },
      "source": [
        "Using the ticker object and the function `history` extract stock information and save it in a dataframe named `gme_data`. Set the `period` parameter to `max` so we get information for the maximum amount of time.\n"
      ]
    },
    {
      "cell_type": "code",
      "id": "5da839c4-31ae-49aa-ace9-fdebade2eb3b",
      "metadata": {
        "id": "5da839c4-31ae-49aa-ace9-fdebade2eb3b"
      },
      "outputs": [],
      "source": [
        "gme_data = gamestop.history(period=\"max\")"
      ],
      "execution_count": 33
    },
    {
      "cell_type": "markdown",
      "id": "1620f225-e2d6-4ba8-ac99-9e701fdcdea0",
      "metadata": {
        "id": "1620f225-e2d6-4ba8-ac99-9e701fdcdea0"
      },
      "source": [
        "**Reset the index** using the `reset_index(inplace=True)` function on the gme_data DataFrame and display the first five rows of the `gme_data` dataframe using the `head` function. Take a screenshot of the results and code from the beginning of Question 3 to the results below.\n"
      ]
    },
    {
      "cell_type": "code",
      "id": "e5dbf4a7-d32e-412b-b6c5-1b22fd5944ed",
      "metadata": {
        "colab": {
          "base_uri": "https://localhost:8080/"
        },
        "id": "e5dbf4a7-d32e-412b-b6c5-1b22fd5944ed",
        "outputId": "5edc9fd6-5be0-46ca-8d76-8d7812837f6a"
      },
      "outputs": [
        {
          "output_type": "stream",
          "name": "stdout",
          "text": [
            "        Date      Open      High       Low     Close    Volume  Dividends  \\\n",
            "0 2002-02-13  1.620129  1.693350  1.603296  1.691667  76216000        0.0   \n",
            "1 2002-02-14  1.712708  1.716074  1.670626  1.683251  11021600        0.0   \n",
            "2 2002-02-15  1.683250  1.687458  1.658001  1.674834   8389600        0.0   \n",
            "3 2002-02-19  1.666418  1.666418  1.578048  1.607504   7410400        0.0   \n",
            "4 2002-02-20  1.615920  1.662210  1.603296  1.662210   6892800        0.0   \n",
            "\n",
            "   Stock Splits  \n",
            "0           0.0  \n",
            "1           0.0  \n",
            "2           0.0  \n",
            "3           0.0  \n",
            "4           0.0  \n"
          ]
        }
      ],
      "source": [
        "gme_data.reset_index(inplace=True)\n",
        "print(gme_data.head())"
      ],
      "execution_count": 34
    },
    {
      "cell_type": "markdown",
      "id": "96df5f96-275e-47fb-9f39-509e09adbab6",
      "metadata": {
        "id": "96df5f96-275e-47fb-9f39-509e09adbab6"
      },
      "source": [
        "## Question 4: Use Webscraping to Extract GME Revenue Data\n"
      ]
    },
    {
      "cell_type": "markdown",
      "id": "d40ea356-9393-4bf7-a67f-f95741863ad7",
      "metadata": {
        "id": "d40ea356-9393-4bf7-a67f-f95741863ad7"
      },
      "source": [
        "Use the `requests` library to download the webpage https://cf-courses-data.s3.us.cloud-object-storage.appdomain.cloud/IBMDeveloperSkillsNetwork-PY0220EN-SkillsNetwork/labs/project/stock.html. Save the text of the response as a variable named `html_data`.\n"
      ]
    },
    {
      "cell_type": "code",
      "id": "35ddd411-d1c1-4a06-9f2e-b1a31566ef2c",
      "metadata": {
        "id": "35ddd411-d1c1-4a06-9f2e-b1a31566ef2c"
      },
      "outputs": [],
      "source": [
        "import requests\n",
        "\n",
        "url = \"https://cf-courses-data.s3.us.cloud-object-storage.appdomain.cloud/IBMDeveloperSkillsNetwork-PY0220EN-SkillsNetwork/labs/project/stock.html\"\n",
        "response = requests.get(url)\n",
        "html_data = response.text"
      ],
      "execution_count": 35
    },
    {
      "cell_type": "markdown",
      "id": "18de3ace-3412-47aa-ae7f-97d486debff9",
      "metadata": {
        "id": "18de3ace-3412-47aa-ae7f-97d486debff9"
      },
      "source": [
        "Parse the html data using `beautiful_soup`.\n"
      ]
    },
    {
      "cell_type": "code",
      "id": "c932e23d-cd21-4e85-afc8-7e3193134d74",
      "metadata": {
        "id": "c932e23d-cd21-4e85-afc8-7e3193134d74"
      },
      "outputs": [],
      "source": [
        "soup = BeautifulSoup(html_data, 'html.parser')"
      ],
      "execution_count": 36
    },
    {
      "cell_type": "markdown",
      "id": "2b8e8a88-b39e-4ca0-82e7-d833cf090e85",
      "metadata": {
        "id": "2b8e8a88-b39e-4ca0-82e7-d833cf090e85"
      },
      "source": [
        "Using `BeautifulSoup` or the `read_html` function extract the table with `GameStop Quarterly Revenue` and store it into a dataframe named `gme_revenue`. The dataframe should have columns `Date` and `Revenue`. Make sure the comma and dollar sign is removed from the `Revenue` column using a method similar to what you did in Question 2.\n"
      ]
    },
    {
      "cell_type": "markdown",
      "id": "2c7f53d6-b641-4f2a-b7c0-09946f07300f",
      "metadata": {
        "id": "2c7f53d6-b641-4f2a-b7c0-09946f07300f"
      },
      "source": [
        "<details><summary>Click here if you need help locating the table</summary>\n",
        "\n",
        "```\n",
        "\n",
        "Below is the code to isolate the table, you will now need to loop through the rows and columns like in the previous lab\n",
        "\n",
        "soup.find_all(\"tbody\")[1]\n",
        "\n",
        "If you want to use the read_html function the table is located at index 1\n",
        "\n",
        "\n",
        "```\n",
        "\n",
        "</details>\n"
      ]
    },
    {
      "cell_type": "code",
      "id": "0435b643-007e-4713-bf52-f3bc2d3fc611",
      "metadata": {
        "colab": {
          "base_uri": "https://localhost:8080/"
        },
        "id": "0435b643-007e-4713-bf52-f3bc2d3fc611",
        "outputId": "f629e353-1439-421f-d686-91acc62aebde"
      },
      "outputs": [
        {
          "output_type": "stream",
          "name": "stdout",
          "text": [
            "    Date Revenue\n",
            "0   2020  $6,466\n",
            "1   2019  $8,285\n",
            "2   2018  $8,547\n",
            "3   2017  $7,965\n",
            "4   2016  $9,364\n",
            "5   2015  $9,296\n",
            "6   2014  $9,040\n",
            "7   2013  $8,887\n",
            "8   2012  $9,551\n",
            "9   2011  $9,474\n",
            "10  2010  $9,078\n",
            "11  2009  $8,806\n",
            "12  2008  $7,094\n",
            "13  2007  $5,319\n",
            "14  2006  $3,092\n",
            "15  2005  $1,843\n"
          ]
        }
      ],
      "source": [
        "# Extract table data using read_html\n",
        "tables = pd.read_html(url)\n",
        "\n",
        "# Find the table index that contains the Tesla Quarterly Revenue\n",
        "gme_revenue = tables[0]  # Adjust the index if needed\n",
        "gme_revenue.columns = ['Date', 'Revenue']\n",
        "\n",
        "# Display the DataFrame\n",
        "print(gme_revenue)"
      ],
      "execution_count": 37
    },
    {
      "cell_type": "markdown",
      "id": "bf5f0a15-d2bc-48e0-9899-4020ed99dbd7",
      "metadata": {
        "id": "bf5f0a15-d2bc-48e0-9899-4020ed99dbd7"
      },
      "source": [
        "Display the last five rows of the `gme_revenue` dataframe using the `tail` function. Take a screenshot of the results.\n"
      ]
    },
    {
      "cell_type": "code",
      "id": "fce8dbe5-c305-48f4-aecb-487126ac37b3",
      "metadata": {
        "colab": {
          "base_uri": "https://localhost:8080/"
        },
        "id": "fce8dbe5-c305-48f4-aecb-487126ac37b3",
        "outputId": "33c6e292-562d-424e-c04f-5d3c991bf3b0"
      },
      "outputs": [
        {
          "output_type": "stream",
          "name": "stdout",
          "text": [
            "    Date Revenue\n",
            "11  2009  $8,806\n",
            "12  2008  $7,094\n",
            "13  2007  $5,319\n",
            "14  2006  $3,092\n",
            "15  2005  $1,843\n"
          ]
        }
      ],
      "source": [
        "print(gme_revenue.tail(5))"
      ],
      "execution_count": 38
    },
    {
      "cell_type": "markdown",
      "id": "9f78c13c-8932-446f-bb66-7f278b559d3e",
      "metadata": {
        "id": "9f78c13c-8932-446f-bb66-7f278b559d3e"
      },
      "source": [
        "## Question 5: Plot Tesla Stock Graph\n"
      ]
    },
    {
      "cell_type": "markdown",
      "id": "f149575a-faf8-41bc-8c35-7b17b7928d89",
      "metadata": {
        "id": "f149575a-faf8-41bc-8c35-7b17b7928d89"
      },
      "source": [
        "Use the `make_graph` function to graph the Tesla Stock Data, also provide a title for the graph. The structure to call the `make_graph` function is `make_graph(tesla_data, tesla_revenue, 'Tesla')`. Note the graph will only show data upto June 2021.\n"
      ]
    },
    {
      "cell_type": "code",
      "id": "35bf663e-3531-43b2-9447-69500a4fb38b",
      "metadata": {
        "colab": {
          "base_uri": "https://localhost:8080/",
          "height": 201
        },
        "id": "35bf663e-3531-43b2-9447-69500a4fb38b",
        "outputId": "7144fdbd-37fe-40a6-82bb-fe75382a06ac"
      },
      "outputs": [
        {
          "output_type": "error",
          "ename": "NameError",
          "evalue": "ignored",
          "traceback": [
            "\u001b[0;31m---------------------------------------------------------------------------\u001b[0m",
            "\u001b[0;31mNameError\u001b[0m                                 Traceback (most recent call last)",
            "\u001b[0;32m<ipython-input-44-4ed2d9d0127a>\u001b[0m in \u001b[0;36m<cell line: 19>\u001b[0;34m()\u001b[0m\n\u001b[1;32m     17\u001b[0m \u001b[0;34m\u001b[0m\u001b[0m\n\u001b[1;32m     18\u001b[0m \u001b[0;31m# Call the make_graph function with Tesla data and revenue data\u001b[0m\u001b[0;34m\u001b[0m\u001b[0;34m\u001b[0m\u001b[0m\n\u001b[0;32m---> 19\u001b[0;31m \u001b[0mmake_graph\u001b[0m\u001b[0;34m(\u001b[0m\u001b[0mtesla_data\u001b[0m\u001b[0;34m,\u001b[0m \u001b[0mtesla_revenue\u001b[0m\u001b[0;34m,\u001b[0m \u001b[0;34m'Tesla'\u001b[0m\u001b[0;34m)\u001b[0m\u001b[0;34m\u001b[0m\u001b[0;34m\u001b[0m\u001b[0m\n\u001b[0m",
            "\u001b[0;31mNameError\u001b[0m: name 'tesla_data' is not defined"
          ]
        }
      ],
      "source": [
        "import matplotlib.pyplot as plt\n",
        "\n",
        "def make_graph(stock_data, revenue_data, title):\n",
        "    # Plotting the stock data\n",
        "    plt.figure(figsize=(12, 6))\n",
        "    plt.plot(stock_data['Date'], stock_data['Close'], label='Stock Price')\n",
        "    plt.xlabel('Date')\n",
        "    plt.ylabel('Price')\n",
        "    plt.title(title + ' Stock Data')\n",
        "\n",
        "    # Plotting the revenue data\n",
        "    plt.plot(revenue_data['Date'], revenue_data['Revenue'], label='Revenue')\n",
        "    plt.legend()\n",
        "\n",
        "    # Display the graph\n",
        "    plt.show()\n",
        "\n",
        "# Call the make_graph function with Tesla data and revenue data\n",
        "make_graph(tesla_data, tesla_revenue, 'Tesla')"
      ],
      "execution_count": 44
    },
    {
      "cell_type": "markdown",
      "id": "c9e237cf-6914-43db-b5cf-c0aaafdbe3ec",
      "metadata": {
        "id": "c9e237cf-6914-43db-b5cf-c0aaafdbe3ec"
      },
      "source": [
        "## Question 6: Plot GameStop Stock Graph\n"
      ]
    },
    {
      "cell_type": "markdown",
      "id": "7a92ff53-3182-4a8d-b69b-7289e023014b",
      "metadata": {
        "id": "7a92ff53-3182-4a8d-b69b-7289e023014b"
      },
      "source": [
        "Use the `make_graph` function to graph the GameStop Stock Data, also provide a title for the graph. The structure to call the `make_graph` function is `make_graph(gme_data, gme_revenue, 'GameStop')`. Note the graph will only show data upto June 2021.\n"
      ]
    },
    {
      "cell_type": "code",
      "id": "d0c80aa1-5117-4ec7-9e0d-e860b7914c14",
      "metadata": {
        "colab": {
          "base_uri": "https://localhost:8080/",
          "height": 564
        },
        "id": "d0c80aa1-5117-4ec7-9e0d-e860b7914c14",
        "outputId": "0d394dce-04c7-40f4-942f-2274f158be51"
      },
      "outputs": [
        {
          "output_type": "display_data",
          "data": {
            "text/plain": [
              "<Figure size 1200x600 with 1 Axes>"
            ],
            "image/png": "[encoded data removed]"
          },
          "metadata": {}
        }
      ],
      "source": [
        "import matplotlib.pyplot as plt\n",
        "\n",
        "def make_graph(stock_data, revenue_data, title):\n",
        "    # Plotting the stock data\n",
        "    plt.figure(figsize=(12, 6))\n",
        "    plt.plot(stock_data['Date'], stock_data['Close'], label='Stock Price')\n",
        "    plt.xlabel('Date')\n",
        "    plt.ylabel('Price')\n",
        "    plt.title(title + ' Stock Data')\n",
        "\n",
        "    # Plotting the revenue data\n",
        "    plt.plot(revenue_data['Date'], revenue_data['Revenue'], label='Revenue')\n",
        "    plt.legend()\n",
        "\n",
        "    # Display the graph\n",
        "    plt.show()\n",
        "\n",
        "# Call the make_graph function with GameStop data and revenue data\n",
        "make_graph(gme_data, gme_revenue, 'GameStop')"
      ],
      "execution_count": 45
    },
    {
      "cell_type": "markdown",
      "id": "2a3dfd40-cc64-45eb-b227-f5fac413302b",
      "metadata": {
        "id": "2a3dfd40-cc64-45eb-b227-f5fac413302b"
      },
      "source": [
        "<h2>About the Authors:</h2>\n",
        "\n",
        "<a href=\"https://www.linkedin.com/in/joseph-s-50398b136/?utm_medium=Exinfluencer&utm_source=Exinfluencer&utm_content=000026UJ&utm_term=10006555&utm_id=NA-SkillsNetwork-Channel-SkillsNetworkCoursesIBMDeveloperSkillsNetworkPY0220ENSkillsNetwork900-2022-01-01\">Joseph Santarcangelo</a> has a PhD in Electrical Engineering, his research focused on using machine learning, signal processing, and computer vision to determine how videos impact human cognition. Joseph has been working for IBM since he completed his PhD.\n",
        "\n",
        "Azim Hirjani\n"
      ]
    },
    {
      "cell_type": "markdown",
      "id": "f0241bee-799c-4d33-8a95-0d5572066f14",
      "metadata": {
        "id": "f0241bee-799c-4d33-8a95-0d5572066f14"
      },
      "source": [
        "## Change Log\n",
        "\n",
        "| Date (YYYY-MM-DD) | Version | Changed By    | Change Description        |\n",
        "| ----------------- | ------- | ------------- | ------------------------- |\n",
        "| 2022-02-28        | 1.2     | Lakshmi Holla | Changed the URL of GameStop |\n",
        "| 2020-11-10        | 1.1     | Malika Singla | Deleted the Optional part |\n",
        "| 2020-08-27        | 1.0     | Malika Singla | Added lab to GitLab       |\n",
        "\n",
        "<hr>\n",
        "\n",
        "## <h3 align=\"center\"> © IBM Corporation 2020. All rights reserved. <h3/>\n",
        "\n",
        "<p>\n"
      ]
    }
  ],
  "metadata": {
    "kernelspec": {
      "display_name": "Python",
      "language": "python",
      "name": "conda-env-python-py"
    },
    "language_info": {
      "name": ""
    },
    "colab": {
      "provenance": [],
      "include_colab_link": true
    }
  },
  "nbformat": 4,
  "nbformat_minor": 5
}